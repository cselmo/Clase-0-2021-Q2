{
 "cells": [
  {
   "cell_type": "markdown",
   "id": "9fea72a3-5e32-46af-93db-61fb28d7b724",
   "metadata": {},
   "source": [
    "# Notebook de introducción de la clase 0\n",
    "\n",
    "## Importar módulos"
   ]
  },
  {
   "cell_type": "code",
   "execution_count": 1,
   "id": "24663726-9066-45bc-b711-d4693baa7a02",
   "metadata": {},
   "outputs": [],
   "source": [
    "%load_ext autoreload\n",
    "%autoreload 2"
   ]
  },
  {
   "cell_type": "code",
   "execution_count": 2,
   "id": "6a3214e0-9f34-47a7-ae7e-0a635aaf7045",
   "metadata": {},
   "outputs": [],
   "source": [
    "import numpy as np\n",
    "from clase_0_helper import suma, function1"
   ]
  },
  {
   "cell_type": "markdown",
   "id": "9520a011-7556-4ac2-9fb9-fdb6bea5ed5a",
   "metadata": {},
   "source": [
    "Ahora voy a generar 20 enteros del 0 al 9 de manera aleatoria"
   ]
  },
  {
   "cell_type": "code",
   "execution_count": 3,
   "id": "99e61b5c-492e-4c9c-9b4e-afff611fadeb",
   "metadata": {},
   "outputs": [
    {
     "name": "stdout",
     "output_type": "stream",
     "text": [
      "[7 6 5 3 4 9 5 7 7 0 3 7 1 4 2 6 6 0 5 3]\n"
     ]
    }
   ],
   "source": [
    "numeros = np.random.randint(0,10,20)\n",
    "print(numeros)"
   ]
  },
  {
   "cell_type": "code",
   "execution_count": 4,
   "id": "817a5958-4442-40dd-ab33-850d368ef6f1",
   "metadata": {},
   "outputs": [
    {
     "data": {
      "text/plain": [
       "11"
      ]
     },
     "execution_count": 4,
     "metadata": {},
     "output_type": "execute_result"
    }
   ],
   "source": [
    "suma(3,8)"
   ]
  },
  {
   "cell_type": "markdown",
   "id": "0f0e4e35-befc-4865-a152-6bc04886e465",
   "metadata": {},
   "source": [
    "## int, float, string"
   ]
  },
  {
   "cell_type": "code",
   "execution_count": null,
   "id": "a573c1d8-81a3-4145-9eb3-99fb9017fdc1",
   "metadata": {},
   "outputs": [],
   "source": []
  },
  {
   "cell_type": "code",
   "execution_count": 5,
   "id": "5b8917f3-1fb4-4a2a-833d-a2bfbf19c017",
   "metadata": {},
   "outputs": [],
   "source": [
    "a = 3\n",
    "b = 3.000000000000\n",
    "c = \"Esto es un string\""
   ]
  },
  {
   "cell_type": "code",
   "execution_count": 6,
   "id": "2b109ebb-60ec-41f3-85d7-d8e49c9c239e",
   "metadata": {},
   "outputs": [
    {
     "name": "stdout",
     "output_type": "stream",
     "text": [
      "3\n"
     ]
    }
   ],
   "source": [
    "print(a)"
   ]
  },
  {
   "cell_type": "code",
   "execution_count": 7,
   "id": "aa48336a-a451-4180-96fa-70029026faf3",
   "metadata": {},
   "outputs": [
    {
     "name": "stdout",
     "output_type": "stream",
     "text": [
      "3.0\n"
     ]
    }
   ],
   "source": [
    "print(b)"
   ]
  },
  {
   "cell_type": "code",
   "execution_count": 8,
   "id": "dec3e895-cbd0-4fdc-8f78-97734b2e4362",
   "metadata": {},
   "outputs": [
    {
     "name": "stdout",
     "output_type": "stream",
     "text": [
      "Esto es un string\n"
     ]
    }
   ],
   "source": [
    "print(c)"
   ]
  },
  {
   "cell_type": "markdown",
   "id": "a5225901-62d9-4baf-96f4-760f0e5995f1",
   "metadata": {},
   "source": [
    "## tuplas, listas, conjuntos, diccionarios"
   ]
  },
  {
   "cell_type": "code",
   "execution_count": 9,
   "id": "72cdea69-e688-424d-99e6-662187da4840",
   "metadata": {},
   "outputs": [],
   "source": [
    "tupla = (a,b,c,a*2,b*2,c*2)\n",
    "tupla2 = (a,b,c,a+4,b+3, c + \" hola\")"
   ]
  },
  {
   "cell_type": "code",
   "execution_count": 10,
   "id": "650bff5e-c131-4b77-ae1c-858a3b2c836b",
   "metadata": {},
   "outputs": [
    {
     "name": "stdout",
     "output_type": "stream",
     "text": [
      "(3, 3.0, 'Esto es un string', 6, 6.0, 'Esto es un stringEsto es un string')\n"
     ]
    }
   ],
   "source": [
    "print(tupla)"
   ]
  },
  {
   "cell_type": "code",
   "execution_count": 11,
   "id": "c187867f-1160-4022-919e-e3fecb109999",
   "metadata": {},
   "outputs": [
    {
     "data": {
      "text/plain": [
       "3"
      ]
     },
     "execution_count": 11,
     "metadata": {},
     "output_type": "execute_result"
    }
   ],
   "source": [
    "tupla[0]"
   ]
  },
  {
   "cell_type": "code",
   "execution_count": 12,
   "id": "91178b89-f97f-4771-8fd5-92a73eb023b2",
   "metadata": {},
   "outputs": [
    {
     "data": {
      "text/plain": [
       "3.0"
      ]
     },
     "execution_count": 12,
     "metadata": {},
     "output_type": "execute_result"
    }
   ],
   "source": [
    "tupla[1]"
   ]
  },
  {
   "cell_type": "code",
   "execution_count": 13,
   "id": "45348ef8-b8c9-4c6e-a3e7-4918117f0fdb",
   "metadata": {},
   "outputs": [
    {
     "data": {
      "text/plain": [
       "'Esto es un string'"
      ]
     },
     "execution_count": 13,
     "metadata": {},
     "output_type": "execute_result"
    }
   ],
   "source": [
    "tupla[2]"
   ]
  },
  {
   "cell_type": "code",
   "execution_count": 14,
   "id": "e05097a8-3bc1-41a2-9f99-2b760d8757c4",
   "metadata": {},
   "outputs": [
    {
     "data": {
      "text/plain": [
       "'Esto es un stringEsto es un string'"
      ]
     },
     "execution_count": 14,
     "metadata": {},
     "output_type": "execute_result"
    }
   ],
   "source": [
    "tupla[-1]"
   ]
  },
  {
   "cell_type": "code",
   "execution_count": 15,
   "id": "8c93b575-d9b0-42fa-b861-640f47815b00",
   "metadata": {},
   "outputs": [
    {
     "data": {
      "text/plain": [
       "(3.0, 'Esto es un string', 6, 6.0)"
      ]
     },
     "execution_count": 15,
     "metadata": {},
     "output_type": "execute_result"
    }
   ],
   "source": [
    "tupla[1:-1]"
   ]
  },
  {
   "cell_type": "code",
   "execution_count": 16,
   "id": "7e6646d3-2b1a-4c3f-8460-641b99908bcc",
   "metadata": {},
   "outputs": [
    {
     "data": {
      "text/plain": [
       "('Esto es un stringEsto es un string', 6.0, 6, 'Esto es un string', 3.0, 3)"
      ]
     },
     "execution_count": 16,
     "metadata": {},
     "output_type": "execute_result"
    }
   ],
   "source": [
    "tupla[::-1]"
   ]
  },
  {
   "cell_type": "code",
   "execution_count": 17,
   "id": "cafd2ce7-b45b-40d2-8db8-7472b1f07504",
   "metadata": {},
   "outputs": [
    {
     "data": {
      "text/plain": [
       "(3,\n",
       " 3.0,\n",
       " 'Esto es un string',\n",
       " 6,\n",
       " 6.0,\n",
       " 'Esto es un stringEsto es un string',\n",
       " 3,\n",
       " 3.0,\n",
       " 'Esto es un string',\n",
       " 7,\n",
       " 6.0,\n",
       " 'Esto es un string hola')"
      ]
     },
     "execution_count": 17,
     "metadata": {},
     "output_type": "execute_result"
    }
   ],
   "source": [
    "tupla + tupla2"
   ]
  },
  {
   "cell_type": "code",
   "execution_count": 18,
   "id": "78245300-de6e-4596-b4de-1e996c639741",
   "metadata": {},
   "outputs": [
    {
     "ename": "TypeError",
     "evalue": "'tuple' object does not support item assignment",
     "output_type": "error",
     "traceback": [
      "\u001b[0;31m---------------------------------------------------------------------------\u001b[0m",
      "\u001b[0;31mTypeError\u001b[0m                                 Traceback (most recent call last)",
      "\u001b[0;32m<ipython-input-18-b84a7e94053b>\u001b[0m in \u001b[0;36m<module>\u001b[0;34m\u001b[0m\n\u001b[0;32m----> 1\u001b[0;31m \u001b[0mtupla\u001b[0m\u001b[0;34m[\u001b[0m\u001b[0;36m0\u001b[0m\u001b[0;34m]\u001b[0m \u001b[0;34m=\u001b[0m \u001b[0;36m4\u001b[0m\u001b[0;34m\u001b[0m\u001b[0;34m\u001b[0m\u001b[0m\n\u001b[0m",
      "\u001b[0;31mTypeError\u001b[0m: 'tuple' object does not support item assignment"
     ]
    }
   ],
   "source": [
    "tupla[0] = 4"
   ]
  },
  {
   "cell_type": "markdown",
   "id": "4c0e4a1d-f08d-440a-a14f-7770aa362999",
   "metadata": {},
   "source": [
    "### listas"
   ]
  },
  {
   "cell_type": "code",
   "execution_count": 19,
   "id": "d8a75fdd-ad29-4c8f-9102-9a4c31d3c9c8",
   "metadata": {},
   "outputs": [],
   "source": [
    "lista1 = [a,b,c,a*2,b*2,c*2]\n",
    "lista2 = [a,b,c,a+4,b+3, c + \" hola\"]"
   ]
  },
  {
   "cell_type": "code",
   "execution_count": 20,
   "id": "93ee2423-e0a9-4894-b023-e5ea5ba02e0e",
   "metadata": {},
   "outputs": [
    {
     "data": {
      "text/plain": [
       "3"
      ]
     },
     "execution_count": 20,
     "metadata": {},
     "output_type": "execute_result"
    }
   ],
   "source": [
    "lista1[0]"
   ]
  },
  {
   "cell_type": "code",
   "execution_count": 21,
   "id": "205e0920-f88a-492e-8e8b-70aa67c44ef6",
   "metadata": {},
   "outputs": [],
   "source": [
    "lista1[0] = 4"
   ]
  },
  {
   "cell_type": "code",
   "execution_count": 22,
   "id": "cd21ec38-6de8-4a08-a264-e3aae52cdcaf",
   "metadata": {},
   "outputs": [
    {
     "data": {
      "text/plain": [
       "[4, 3.0, 'Esto es un string', 6, 6.0, 'Esto es un stringEsto es un string']"
      ]
     },
     "execution_count": 22,
     "metadata": {},
     "output_type": "execute_result"
    }
   ],
   "source": [
    "lista1"
   ]
  },
  {
   "cell_type": "code",
   "execution_count": 23,
   "id": "8bdc7099-c892-4960-bc27-730a65dda494",
   "metadata": {},
   "outputs": [],
   "source": [
    "lista1.append(\"agrego\")"
   ]
  },
  {
   "cell_type": "code",
   "execution_count": 24,
   "id": "a476947d-e91f-4731-8cca-f17a46362745",
   "metadata": {},
   "outputs": [
    {
     "data": {
      "text/plain": [
       "[4,\n",
       " 3.0,\n",
       " 'Esto es un string',\n",
       " 6,\n",
       " 6.0,\n",
       " 'Esto es un stringEsto es un string',\n",
       " 'agrego']"
      ]
     },
     "execution_count": 24,
     "metadata": {},
     "output_type": "execute_result"
    }
   ],
   "source": [
    "lista1"
   ]
  },
  {
   "cell_type": "code",
   "execution_count": 25,
   "id": "72c37baf-fcf3-46ec-b488-2a9050e2cfce",
   "metadata": {},
   "outputs": [],
   "source": [
    "del lista1[2]"
   ]
  },
  {
   "cell_type": "code",
   "execution_count": 26,
   "id": "47a1c262-0da8-40e0-966b-1453dd926c89",
   "metadata": {},
   "outputs": [
    {
     "data": {
      "text/plain": [
       "[4, 3.0, 6, 6.0, 'Esto es un stringEsto es un string', 'agrego']"
      ]
     },
     "execution_count": 26,
     "metadata": {},
     "output_type": "execute_result"
    }
   ],
   "source": [
    "lista1"
   ]
  },
  {
   "cell_type": "code",
   "execution_count": 27,
   "id": "348ca557-604f-426b-acdb-cdec7ae7d381",
   "metadata": {},
   "outputs": [],
   "source": [
    "lista1.reverse()"
   ]
  },
  {
   "cell_type": "code",
   "execution_count": 28,
   "id": "f375f9eb-3c0d-48d8-9b5b-04e97a91c30d",
   "metadata": {},
   "outputs": [
    {
     "data": {
      "text/plain": [
       "['agrego', 'Esto es un stringEsto es un string', 6.0, 6, 3.0, 4]"
      ]
     },
     "execution_count": 28,
     "metadata": {},
     "output_type": "execute_result"
    }
   ],
   "source": [
    "lista1"
   ]
  },
  {
   "cell_type": "code",
   "execution_count": 29,
   "id": "5e637458-3185-4a87-a473-16de24d2a0f2",
   "metadata": {},
   "outputs": [
    {
     "ename": "TypeError",
     "evalue": "'>' not supported between instances of 'float' and 'str'",
     "output_type": "error",
     "traceback": [
      "\u001b[0;31m---------------------------------------------------------------------------\u001b[0m",
      "\u001b[0;31mTypeError\u001b[0m                                 Traceback (most recent call last)",
      "\u001b[0;32m<ipython-input-29-c19f94f7b4d7>\u001b[0m in \u001b[0;36m<module>\u001b[0;34m\u001b[0m\n\u001b[0;32m----> 1\u001b[0;31m \u001b[0mmax\u001b[0m\u001b[0;34m(\u001b[0m\u001b[0mlista1\u001b[0m\u001b[0;34m)\u001b[0m\u001b[0;34m\u001b[0m\u001b[0;34m\u001b[0m\u001b[0m\n\u001b[0m",
      "\u001b[0;31mTypeError\u001b[0m: '>' not supported between instances of 'float' and 'str'"
     ]
    }
   ],
   "source": [
    "max(lista1)"
   ]
  },
  {
   "cell_type": "code",
   "execution_count": 30,
   "id": "5841e589-3f4d-469a-910d-af3a224d25ad",
   "metadata": {},
   "outputs": [],
   "source": [
    "lista = [3,7,4,5,33.54,8,5,8,4,23]"
   ]
  },
  {
   "cell_type": "code",
   "execution_count": 31,
   "id": "c14e9679-80de-4190-a0c0-a8406726af7c",
   "metadata": {},
   "outputs": [
    {
     "data": {
      "text/plain": [
       "33.54"
      ]
     },
     "execution_count": 31,
     "metadata": {},
     "output_type": "execute_result"
    }
   ],
   "source": [
    "max(lista)"
   ]
  },
  {
   "cell_type": "markdown",
   "id": "b0cc6f29-224c-4be0-9eda-6a7dbf15acae",
   "metadata": {},
   "source": [
    "### diccionarios"
   ]
  },
  {
   "cell_type": "code",
   "execution_count": 32,
   "id": "7f5cfa78-6800-4c00-85db-0c20c8a64385",
   "metadata": {},
   "outputs": [],
   "source": [
    "dict1 = {\n",
    "    \"nombre\":\"Carlos\",\n",
    "    \"apellido\":\"Selmo\",\n",
    "    \"edad\":42,\n",
    "    42 : \"el número del universo\",\n",
    "    (9,9,6) : \"prefiero dormir la siesta\",\n",
    "    99.9 : \"una radio\",\n",
    "}"
   ]
  },
  {
   "cell_type": "code",
   "execution_count": 33,
   "id": "5970001c-ebd4-45f6-9050-0d1c64d8f0ed",
   "metadata": {},
   "outputs": [
    {
     "data": {
      "text/plain": [
       "{'nombre': 'Carlos',\n",
       " 'apellido': 'Selmo',\n",
       " 'edad': 42,\n",
       " 42: 'el número del universo',\n",
       " (9, 9, 6): 'prefiero dormir la siesta',\n",
       " 99.9: 'una radio'}"
      ]
     },
     "execution_count": 33,
     "metadata": {},
     "output_type": "execute_result"
    }
   ],
   "source": [
    "dict1"
   ]
  },
  {
   "cell_type": "code",
   "execution_count": 34,
   "id": "f59dcdbf-1d96-4558-a3a6-76c437ade64a",
   "metadata": {},
   "outputs": [
    {
     "data": {
      "text/plain": [
       "'una radio'"
      ]
     },
     "execution_count": 34,
     "metadata": {},
     "output_type": "execute_result"
    }
   ],
   "source": [
    "dict1[99.9]"
   ]
  },
  {
   "cell_type": "code",
   "execution_count": 35,
   "id": "fc0a833e-ba40-4b40-9b6e-777eff9dd80e",
   "metadata": {},
   "outputs": [
    {
     "data": {
      "text/plain": [
       "dict_keys(['nombre', 'apellido', 'edad', 42, (9, 9, 6), 99.9])"
      ]
     },
     "execution_count": 35,
     "metadata": {},
     "output_type": "execute_result"
    }
   ],
   "source": [
    "dict1.keys()"
   ]
  },
  {
   "cell_type": "code",
   "execution_count": 36,
   "id": "773dad40-90e7-4230-8375-1f7567c872f6",
   "metadata": {},
   "outputs": [
    {
     "data": {
      "text/plain": [
       "dict_values(['Carlos', 'Selmo', 42, 'el número del universo', 'prefiero dormir la siesta', 'una radio'])"
      ]
     },
     "execution_count": 36,
     "metadata": {},
     "output_type": "execute_result"
    }
   ],
   "source": [
    "dict1.values()"
   ]
  },
  {
   "cell_type": "code",
   "execution_count": 37,
   "id": "9a5a92e3-d2e1-467f-b6d2-395fa73fe5d5",
   "metadata": {},
   "outputs": [
    {
     "data": {
      "text/plain": [
       "dict_items([('nombre', 'Carlos'), ('apellido', 'Selmo'), ('edad', 42), (42, 'el número del universo'), ((9, 9, 6), 'prefiero dormir la siesta'), (99.9, 'una radio')])"
      ]
     },
     "execution_count": 37,
     "metadata": {},
     "output_type": "execute_result"
    }
   ],
   "source": [
    "dict1.items()"
   ]
  },
  {
   "cell_type": "markdown",
   "id": "c78bf168-e75f-4bbc-afbb-0bd5ed7c21ec",
   "metadata": {},
   "source": [
    "### conjuntos"
   ]
  },
  {
   "cell_type": "code",
   "execution_count": 38,
   "id": "15f01d2e-6f07-4648-94ee-c3dd32523895",
   "metadata": {},
   "outputs": [],
   "source": [
    "set1 = {1,\"andres\", \"julian\", 7.5}\n",
    "set2 = {1,\"andres\", \"carlos\", 2.4}"
   ]
  },
  {
   "cell_type": "code",
   "execution_count": 39,
   "id": "59882ebd-1a09-4456-9745-3409183135f7",
   "metadata": {},
   "outputs": [
    {
     "data": {
      "text/plain": [
       "{1, 'andres'}"
      ]
     },
     "execution_count": 39,
     "metadata": {},
     "output_type": "execute_result"
    }
   ],
   "source": [
    "set1.intersection(set2)"
   ]
  },
  {
   "cell_type": "code",
   "execution_count": 40,
   "id": "5b52eb5c-10a5-4c62-93e2-e896a6181811",
   "metadata": {},
   "outputs": [],
   "source": [
    "set1.add(\"carlos\")"
   ]
  },
  {
   "cell_type": "code",
   "execution_count": 41,
   "id": "b5df20a7-2835-48c5-9599-287aae369234",
   "metadata": {},
   "outputs": [
    {
     "data": {
      "text/plain": [
       "{1, 7.5, 'andres', 'carlos', 'julian'}"
      ]
     },
     "execution_count": 41,
     "metadata": {},
     "output_type": "execute_result"
    }
   ],
   "source": [
    "set1"
   ]
  },
  {
   "cell_type": "code",
   "execution_count": 42,
   "id": "9d94a7d8-3fab-4ebc-b9c5-de2adea94a77",
   "metadata": {},
   "outputs": [],
   "source": [
    "lista1.append(6)\n",
    "lista1.append(6)\n",
    "lista1.append(6)\n",
    "lista1.append(6)\n",
    "lista1.append(6)\n",
    "lista1.append(6)"
   ]
  },
  {
   "cell_type": "code",
   "execution_count": 43,
   "id": "63eca335-fef2-47f6-8d28-42d4b733bd12",
   "metadata": {},
   "outputs": [
    {
     "data": {
      "text/plain": [
       "{3.0, 4, 6.0, 'Esto es un stringEsto es un string', 'agrego'}"
      ]
     },
     "execution_count": 43,
     "metadata": {},
     "output_type": "execute_result"
    }
   ],
   "source": [
    "set(lista1)"
   ]
  },
  {
   "cell_type": "code",
   "execution_count": 44,
   "id": "5210ef21-d951-4cf6-944c-6ecd3d0e96a4",
   "metadata": {},
   "outputs": [
    {
     "data": {
      "text/plain": [
       "{3.0, 4, 6, 'Esto es un stringEsto es un string', 'agrego'}"
      ]
     },
     "execution_count": 44,
     "metadata": {},
     "output_type": "execute_result"
    }
   ],
   "source": [
    "lista1.reverse()\n",
    "set(lista1)"
   ]
  },
  {
   "cell_type": "code",
   "execution_count": 45,
   "id": "b31b2153-62fb-4422-aa40-d246d6c44132",
   "metadata": {},
   "outputs": [
    {
     "data": {
      "text/plain": [
       "[6,\n",
       " 6,\n",
       " 6,\n",
       " 6,\n",
       " 6,\n",
       " 6,\n",
       " 4,\n",
       " 3.0,\n",
       " 6,\n",
       " 6.0,\n",
       " 'Esto es un stringEsto es un string',\n",
       " 'agrego']"
      ]
     },
     "execution_count": 45,
     "metadata": {},
     "output_type": "execute_result"
    }
   ],
   "source": [
    "lista1"
   ]
  },
  {
   "cell_type": "code",
   "execution_count": 46,
   "id": "16c37e42-be99-4af3-9ca0-0c4885ba5586",
   "metadata": {},
   "outputs": [
    {
     "data": {
      "text/plain": [
       "True"
      ]
     },
     "execution_count": 46,
     "metadata": {},
     "output_type": "execute_result"
    }
   ],
   "source": [
    "6 == 6.0"
   ]
  },
  {
   "cell_type": "markdown",
   "id": "cdd532b4-ac7b-422f-bd67-e4fd4946f377",
   "metadata": {},
   "source": [
    "# Iteración con for"
   ]
  },
  {
   "cell_type": "code",
   "execution_count": 47,
   "id": "cefa4f65-488d-41de-85cc-845094e8e391",
   "metadata": {},
   "outputs": [
    {
     "name": "stdout",
     "output_type": "stream",
     "text": [
      "nombre Carlos\n",
      "apellido Selmo\n",
      "edad 42\n",
      "42 el número del universo\n",
      "(9, 9, 6) prefiero dormir la siesta\n",
      "99.9 una radio\n"
     ]
    }
   ],
   "source": [
    "for key,value in dict1.items():\n",
    "    print(key, value)"
   ]
  },
  {
   "cell_type": "code",
   "execution_count": 48,
   "id": "241db658-d6ca-4e7c-96f6-60570d120fe6",
   "metadata": {},
   "outputs": [
    {
     "name": "stdout",
     "output_type": "stream",
     "text": [
      "CPU times: user 530 ms, sys: 53.5 ms, total: 584 ms\n",
      "Wall time: 583 ms\n"
     ]
    }
   ],
   "source": [
    "%%time\n",
    "lista = []\n",
    "for i in range(10000000):\n",
    "    lista.append(i)"
   ]
  },
  {
   "cell_type": "markdown",
   "id": "ed92282f-b83f-409d-be44-521966e38d33",
   "metadata": {},
   "source": [
    "# List Comprenhension"
   ]
  },
  {
   "cell_type": "code",
   "execution_count": 49,
   "id": "815e6b83-a0fa-4f5a-8730-ae0446a2a76c",
   "metadata": {
    "tags": []
   },
   "outputs": [
    {
     "name": "stdout",
     "output_type": "stream",
     "text": [
      "CPU times: user 224 ms, sys: 79.7 ms, total: 303 ms\n",
      "Wall time: 303 ms\n"
     ]
    }
   ],
   "source": [
    "%%time\n",
    "lista = [i for i in range(10000000)]"
   ]
  },
  {
   "cell_type": "markdown",
   "id": "4ca790f3-062b-4051-92e3-b73633a376d2",
   "metadata": {},
   "source": [
    "# Dict Comprenhension"
   ]
  },
  {
   "cell_type": "code",
   "execution_count": 50,
   "id": "41b5fed3-9f01-4821-bd4e-67aa8dc0ea46",
   "metadata": {},
   "outputs": [],
   "source": [
    "dict1 = {i:i**2 for i in range(10000000)}"
   ]
  },
  {
   "cell_type": "code",
   "execution_count": 51,
   "id": "8e26aef3-b4f8-4c12-8162-9ed1531b14f7",
   "metadata": {},
   "outputs": [
    {
     "name": "stdout",
     "output_type": "stream",
     "text": [
      "CPU times: user 477 ms, sys: 7.1 ms, total: 484 ms\n",
      "Wall time: 483 ms\n"
     ]
    }
   ],
   "source": [
    "%%time\n",
    "lista_from_dict = [dict1[i] for i in range(10000000)]"
   ]
  },
  {
   "cell_type": "code",
   "execution_count": 52,
   "id": "009a46a0-b9b9-4f38-afae-064bbb438738",
   "metadata": {},
   "outputs": [],
   "source": [
    "lista = []\n",
    "a = 2\n",
    "while(len(lista) < 10):\n",
    "    lista.append(a)\n",
    "    a = a*a"
   ]
  },
  {
   "cell_type": "code",
   "execution_count": 53,
   "id": "1eb79c9c-0128-4a9e-a447-46448754d012",
   "metadata": {},
   "outputs": [
    {
     "data": {
      "text/plain": [
       "[2,\n",
       " 4,\n",
       " 16,\n",
       " 256,\n",
       " 65536,\n",
       " 4294967296,\n",
       " 18446744073709551616,\n",
       " 340282366920938463463374607431768211456,\n",
       " 115792089237316195423570985008687907853269984665640564039457584007913129639936,\n",
       " 13407807929942597099574024998205846127479365820592393377723561443721764030073546976801874298166903427690031858186486050853753882811946569946433649006084096]"
      ]
     },
     "execution_count": 53,
     "metadata": {},
     "output_type": "execute_result"
    }
   ],
   "source": [
    "lista"
   ]
  },
  {
   "cell_type": "code",
   "execution_count": 54,
   "id": "2b07f431-cf98-4004-af56-a9ec6761615a",
   "metadata": {},
   "outputs": [
    {
     "name": "stdout",
     "output_type": "stream",
     "text": [
      "65536\n",
      "4294967296\n"
     ]
    }
   ],
   "source": [
    "for elem in lista:\n",
    "    if elem > 10000 and elem < 14294967296:\n",
    "        print(elem)"
   ]
  },
  {
   "cell_type": "markdown",
   "id": "03318a21-4fea-41ee-a1ec-3c12dcfa4b8b",
   "metadata": {},
   "source": [
    "### Funciones (*ver helper*)\n",
    "- Argumentos posicionales  \n",
    "- Argumentos opcionales"
   ]
  },
  {
   "cell_type": "code",
   "execution_count": 55,
   "id": "c07b8939-ccfa-4b64-8606-b1ed5a24d6a3",
   "metadata": {},
   "outputs": [
    {
     "name": "stdout",
     "output_type": "stream",
     "text": [
      "57\n"
     ]
    },
    {
     "data": {
      "text/plain": [
       "'default'"
      ]
     },
     "execution_count": 55,
     "metadata": {},
     "output_type": "execute_result"
    }
   ],
   "source": [
    "function1(3,4)"
   ]
  },
  {
   "cell_type": "markdown",
   "id": "455dbf53-a803-4eb1-b9a3-1b56797fe711",
   "metadata": {},
   "source": [
    "### Clases"
   ]
  },
  {
   "cell_type": "code",
   "execution_count": 1,
   "id": "7e2db068-8a85-4fa5-8d34-9f26033a1b56",
   "metadata": {},
   "outputs": [],
   "source": [
    "from clase_0_helper import ComplexNumbers, TriplexNumbers"
   ]
  },
  {
   "cell_type": "code",
   "execution_count": 2,
   "id": "515c88b7-7f53-4ceb-9154-13f891964191",
   "metadata": {},
   "outputs": [],
   "source": [
    "complex_number1 = ComplexNumbers(5,7)"
   ]
  },
  {
   "cell_type": "code",
   "execution_count": 3,
   "id": "925498ce-bd25-4191-b660-1ccad0922820",
   "metadata": {},
   "outputs": [
    {
     "data": {
      "text/plain": [
       "5"
      ]
     },
     "execution_count": 3,
     "metadata": {},
     "output_type": "execute_result"
    }
   ],
   "source": [
    "complex_number1.real"
   ]
  },
  {
   "cell_type": "code",
   "execution_count": 4,
   "id": "75bf1826-6135-465a-ab15-c109650796eb",
   "metadata": {},
   "outputs": [
    {
     "data": {
      "text/plain": [
       "7"
      ]
     },
     "execution_count": 4,
     "metadata": {},
     "output_type": "execute_result"
    }
   ],
   "source": [
    "complex_number1.imag"
   ]
  },
  {
   "cell_type": "code",
   "execution_count": 5,
   "id": "d710bce8-9a42-497f-994b-5f5395ca47b6",
   "metadata": {},
   "outputs": [
    {
     "name": "stdout",
     "output_type": "stream",
     "text": [
      "La parte real es 5 y la parte imaginaria es 7\n"
     ]
    }
   ],
   "source": [
    "complex_number1.print()"
   ]
  },
  {
   "cell_type": "code",
   "execution_count": 6,
   "id": "2c85c5ba-1e8d-4074-83a0-a0d51e34df02",
   "metadata": {},
   "outputs": [],
   "source": [
    "complex_number1.set_real(83)"
   ]
  },
  {
   "cell_type": "code",
   "execution_count": 7,
   "id": "0238979d-8b65-4f17-b818-63401f73598d",
   "metadata": {},
   "outputs": [
    {
     "name": "stdout",
     "output_type": "stream",
     "text": [
      "La parte real es 83 y la parte imaginaria es 7\n"
     ]
    }
   ],
   "source": [
    "complex_number1.print()"
   ]
  },
  {
   "cell_type": "code",
   "execution_count": 8,
   "id": "da0c9aec-cdf6-42f7-8d95-e7f1ba30ab6b",
   "metadata": {},
   "outputs": [],
   "source": [
    "complex_number1.set_imag(40)"
   ]
  },
  {
   "cell_type": "code",
   "execution_count": 9,
   "id": "d7694b61-0bf4-4302-bb1b-7840a2257715",
   "metadata": {},
   "outputs": [
    {
     "name": "stdout",
     "output_type": "stream",
     "text": [
      "La parte real es 83 y la parte imaginaria es 40\n"
     ]
    }
   ],
   "source": [
    "complex_number1.print()"
   ]
  },
  {
   "cell_type": "code",
   "execution_count": 10,
   "id": "33c77879-bc9e-468c-8d0b-a54ed2bd06f0",
   "metadata": {},
   "outputs": [],
   "source": [
    "complex_number2 = ComplexNumbers(10,10)"
   ]
  },
  {
   "cell_type": "code",
   "execution_count": 11,
   "id": "2e607865-f54b-415c-a326-44d1d3c857a7",
   "metadata": {},
   "outputs": [],
   "source": [
    "complex_number1.suma(complex_number2)"
   ]
  },
  {
   "cell_type": "code",
   "execution_count": 12,
   "id": "f27c7151-5e53-4747-8f8e-5e127a71351e",
   "metadata": {},
   "outputs": [
    {
     "name": "stdout",
     "output_type": "stream",
     "text": [
      "La parte real es 93 y la parte imaginaria es 50\n"
     ]
    }
   ],
   "source": [
    "complex_number1.print()"
   ]
  },
  {
   "cell_type": "code",
   "execution_count": 13,
   "id": "ea24bea0-7444-47b9-9712-91f44dacaef5",
   "metadata": {},
   "outputs": [],
   "source": [
    "complex_number = complex_number1 + complex_number2"
   ]
  },
  {
   "cell_type": "code",
   "execution_count": 14,
   "id": "58850b46-b02b-4fac-b8cb-826abccb1e8d",
   "metadata": {},
   "outputs": [
    {
     "name": "stdout",
     "output_type": "stream",
     "text": [
      "La parte real es 103 y la parte imaginaria es 60\n"
     ]
    }
   ],
   "source": [
    "complex_number.print()"
   ]
  },
  {
   "cell_type": "code",
   "execution_count": 15,
   "id": "b8ec6231-a042-4020-95ec-baaad629e993",
   "metadata": {},
   "outputs": [
    {
     "data": {
      "text/plain": [
       "La parte real es 103 y la parte imaginaria es 60"
      ]
     },
     "execution_count": 15,
     "metadata": {},
     "output_type": "execute_result"
    }
   ],
   "source": [
    "complex_number1 + complex_number2"
   ]
  },
  {
   "cell_type": "code",
   "execution_count": 16,
   "id": "4c1fa61c-2ab8-47c3-aea3-d77d78b8f5c9",
   "metadata": {},
   "outputs": [
    {
     "data": {
      "text/plain": [
       "7"
      ]
     },
     "execution_count": 16,
     "metadata": {},
     "output_type": "execute_result"
    }
   ],
   "source": [
    "3 + 4"
   ]
  },
  {
   "cell_type": "code",
   "execution_count": 17,
   "id": "8c8e0c5a-9401-41d9-b01e-63cd18f96c5d",
   "metadata": {},
   "outputs": [
    {
     "data": {
      "text/plain": [
       "La parte real es 523 y la parte imaginaria es 1480"
      ]
     },
     "execution_count": 17,
     "metadata": {},
     "output_type": "execute_result"
    }
   ],
   "source": [
    "complex_number1 + complex_number1 * complex_number2"
   ]
  },
  {
   "cell_type": "code",
   "execution_count": 18,
   "id": "9d64fef1-83b7-43e6-8ce2-d0bc7c5100d8",
   "metadata": {},
   "outputs": [],
   "source": [
    "triplex_number1 = TriplexNumbers(3,5,7)\n",
    "triplex_number2 = TriplexNumbers(5,6,1)"
   ]
  },
  {
   "cell_type": "code",
   "execution_count": 19,
   "id": "f40d6bf9-384c-47f0-9c30-96714fdcb0b8",
   "metadata": {},
   "outputs": [],
   "source": [
    "complex_number2 = ComplexNumbers(10,10)"
   ]
  },
  {
   "cell_type": "code",
   "execution_count": 20,
   "id": "bee55010-4546-4901-ab77-94ddde5bfd67",
   "metadata": {},
   "outputs": [
    {
     "name": "stdout",
     "output_type": "stream",
     "text": [
      "Is complex: True\n",
      "Is triplex: False\n"
     ]
    },
    {
     "data": {
      "text/plain": [
       "La parte real es 13 y la parte imaginaria es 15"
      ]
     },
     "execution_count": 20,
     "metadata": {},
     "output_type": "execute_result"
    }
   ],
   "source": [
    "triplex_number1 + complex_number2"
   ]
  },
  {
   "cell_type": "code",
   "execution_count": 21,
   "id": "be532928-dcc2-42da-8cb4-05b071c1f778",
   "metadata": {},
   "outputs": [
    {
     "name": "stdout",
     "output_type": "stream",
     "text": [
      "Is complex: True\n",
      "Is triplex: True\n"
     ]
    },
    {
     "data": {
      "text/plain": [
       "La parte real es 8, la parte imaginaria es 11 y la parte tres es 8"
      ]
     },
     "execution_count": 21,
     "metadata": {},
     "output_type": "execute_result"
    }
   ],
   "source": [
    "triplex_number1 + triplex_number2"
   ]
  },
  {
   "cell_type": "code",
   "execution_count": null,
   "id": "59640464-dc48-44f8-89e3-caae648ed9a5",
   "metadata": {},
   "outputs": [],
   "source": []
  }
 ],
 "metadata": {
  "kernelspec": {
   "display_name": "Python [conda env:.conda-diplo_2021_q2]",
   "language": "python",
   "name": "conda-env-.conda-diplo_2021_q2-py"
  },
  "language_info": {
   "codemirror_mode": {
    "name": "ipython",
    "version": 3
   },
   "file_extension": ".py",
   "mimetype": "text/x-python",
   "name": "python",
   "nbconvert_exporter": "python",
   "pygments_lexer": "ipython3",
   "version": "3.8.10"
  }
 },
 "nbformat": 4,
 "nbformat_minor": 5
}
